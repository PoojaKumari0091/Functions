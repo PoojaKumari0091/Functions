{
  "nbformat": 4,
  "nbformat_minor": 0,
  "metadata": {
    "colab": {
      "provenance": []
    },
    "kernelspec": {
      "name": "python3",
      "display_name": "Python 3"
    },
    "language_info": {
      "name": "python"
    }
  },
  "cells": [
    {
      "cell_type": "code",
      "execution_count": null,
      "metadata": {
        "id": "PMFnLrR8KY1T"
      },
      "outputs": [],
      "source": []
    },
    {
      "cell_type": "markdown",
      "source": [
        "  # Assignment function:"
      ],
      "metadata": {
        "id": "8ZrjcFGR2ktL"
      }
    },
    {
      "cell_type": "markdown",
      "source": [
        "1. What is the difference between a function and a method in Python?\n",
        "    - Function: A block of reusable code defined using def.\n",
        "        Method: By using method we can call function to perform certain tasks. Example:"
      ],
      "metadata": {
        "id": "XC27FXdYL6uT"
      }
    },
    {
      "cell_type": "code",
      "source": [
        "def add(x, y):\n",
        "    return x + y\n",
        "print(add(2, 3))  # 5\n"
      ],
      "metadata": {
        "colab": {
          "base_uri": "https://localhost:8080/"
        },
        "id": "o4LXq5giMrHh",
        "outputId": "dfdc4a59-8664-4c6e-d4c1-2fb34f2defaa"
      },
      "execution_count": null,
      "outputs": [
        {
          "output_type": "stream",
          "name": "stdout",
          "text": [
            "5\n"
          ]
        }
      ]
    },
    {
      "cell_type": "code",
      "source": [],
      "metadata": {
        "id": "Uw4AdAObMHqZ"
      },
      "execution_count": null,
      "outputs": []
    },
    {
      "cell_type": "markdown",
      "source": [
        "2. Explain the concept of function arguments and parameters in Python.\n",
        "    - Parameter = variable inside function definition.\n",
        "    - Argument = actual value given when calling the function"
      ],
      "metadata": {
        "id": "650QY70RQEw_"
      }
    },
    {
      "cell_type": "code",
      "source": [
        "def greet(name):  # name = parameter\n",
        "    print(\"Hello\", name)\n",
        "\n",
        "greet(\"Krishna\")  # \"Krishna\" = argument"
      ],
      "metadata": {
        "colab": {
          "base_uri": "https://localhost:8080/"
        },
        "id": "uAUzgfgjQe86",
        "outputId": "9e249ef3-2a68-4f4c-a509-d9edf1c2fe4c"
      },
      "execution_count": 1,
      "outputs": [
        {
          "output_type": "stream",
          "name": "stdout",
          "text": [
            "Hello Krishna\n"
          ]
        }
      ]
    },
    {
      "cell_type": "markdown",
      "source": [
        "3. What are the different ways to define and call a function in Python?\n",
        "   - Normal def function.\n",
        "    - Anonymous function using lambda."
      ],
      "metadata": {
        "id": "bRfFBavPQl7M"
      }
    },
    {
      "cell_type": "code",
      "source": [
        "def square(x):  # normal function\n",
        "    return x * x\n",
        "print(square(5))\n",
        "\n",
        "cube = lambda x: x**3  # lambda function\n",
        "print(cube(2))"
      ],
      "metadata": {
        "colab": {
          "base_uri": "https://localhost:8080/"
        },
        "id": "KIFFo_dGRGrG",
        "outputId": "01d53024-b8de-4584-e158-f1832ada04b6"
      },
      "execution_count": 2,
      "outputs": [
        {
          "output_type": "stream",
          "name": "stdout",
          "text": [
            "25\n",
            "8\n"
          ]
        }
      ]
    },
    {
      "cell_type": "markdown",
      "source": [
        "4. What is the purpose of the `return` statement in a Python function?\n",
        "    - Ends a function and gives back a value."
      ],
      "metadata": {
        "id": "IMy1_1tURW5m"
      }
    },
    {
      "cell_type": "code",
      "source": [
        "def multiply(a, b):\n",
        "    return a * b\n",
        "\n",
        "result = multiply(4, 3)\n",
        "print(result)"
      ],
      "metadata": {
        "colab": {
          "base_uri": "https://localhost:8080/"
        },
        "id": "yfxDbYG-Rkrb",
        "outputId": "ca214042-13c0-4c64-cadc-275e72c75c8e"
      },
      "execution_count": 3,
      "outputs": [
        {
          "output_type": "stream",
          "name": "stdout",
          "text": [
            "12\n"
          ]
        }
      ]
    },
    {
      "cell_type": "markdown",
      "source": [
        "5. What are iterators in Python and how do they differ from iterables?\n",
        "   - Iterable: A sequence you can loop over (list, tuple, string).\n",
        "   - Iterator: Object created by iter(), gives one item at a time using next()."
      ],
      "metadata": {
        "id": "yI6BGBI0RrqP"
      }
    },
    {
      "cell_type": "code",
      "source": [
        "nums = [10, 20, 30]  # iterable\n",
        "it = iter(nums)      # iterator\n",
        "print(next(it))\n",
        "print(next(it))"
      ],
      "metadata": {
        "colab": {
          "base_uri": "https://localhost:8080/"
        },
        "id": "7-aObapER8yY",
        "outputId": "76e6b468-a694-4c7e-859d-aab569bbbf99"
      },
      "execution_count": 4,
      "outputs": [
        {
          "output_type": "stream",
          "name": "stdout",
          "text": [
            "10\n",
            "20\n"
          ]
        }
      ]
    },
    {
      "cell_type": "markdown",
      "source": [
        "6. Explain the concept of generators in Python and how they are defined.\n",
        "    - Functions with yield instead of return.\n",
        "    - They give values one by one (lazy evaluation)."
      ],
      "metadata": {
        "id": "iG4d9BgtSCNL"
      }
    },
    {
      "cell_type": "code",
      "source": [
        "def numbers():\n",
        "    for i in range(3):\n",
        "        yield i\n",
        "\n",
        "for n in numbers():\n",
        "    print(n)"
      ],
      "metadata": {
        "colab": {
          "base_uri": "https://localhost:8080/"
        },
        "id": "BjOjjIvkSTZi",
        "outputId": "77ae86d6-1f48-40ec-fa49-50f63e703fad"
      },
      "execution_count": 5,
      "outputs": [
        {
          "output_type": "stream",
          "name": "stdout",
          "text": [
            "0\n",
            "1\n",
            "2\n"
          ]
        }
      ]
    },
    {
      "cell_type": "markdown",
      "source": [
        "7. What are the advantages of using generators over regular functions?\n",
        "   - Save memory (don’t store full list).\n",
        "    - Useful for large datasets."
      ],
      "metadata": {
        "id": "0XvrYW6QSZIW"
      }
    },
    {
      "cell_type": "code",
      "source": [
        "def squares(n):\n",
        "    for i in range(n):\n",
        "        yield i*i\n",
        "\n",
        "for val in squares(5):\n",
        "    print(val)\n"
      ],
      "metadata": {
        "colab": {
          "base_uri": "https://localhost:8080/"
        },
        "id": "1EQV8uBxSmAu",
        "outputId": "f8691dd1-d1ac-4742-db0b-c9041299fde6"
      },
      "execution_count": 6,
      "outputs": [
        {
          "output_type": "stream",
          "name": "stdout",
          "text": [
            "0\n",
            "1\n",
            "4\n",
            "9\n",
            "16\n"
          ]
        }
      ]
    },
    {
      "cell_type": "markdown",
      "source": [
        "8. What is a lambda function in Python and when is it typically used?\n",
        "   - A quick, one-line anonymous function.\n",
        "   - Often used inside map, filter, etc."
      ],
      "metadata": {
        "id": "3D4X8VL5SvUP"
      }
    },
    {
      "cell_type": "code",
      "source": [
        "double = lambda x: x*2\n",
        "print(double(5))"
      ],
      "metadata": {
        "colab": {
          "base_uri": "https://localhost:8080/"
        },
        "id": "cDs3ep1tTD9F",
        "outputId": "25aac8f8-0b0c-4530-9af2-5a755fc85693"
      },
      "execution_count": 7,
      "outputs": [
        {
          "output_type": "stream",
          "name": "stdout",
          "text": [
            "10\n"
          ]
        }
      ]
    },
    {
      "cell_type": "markdown",
      "source": [
        "9. Explain the purpose and usage of the `map()` function in Python.\n",
        "   - Applies a function to each element of a sequence."
      ],
      "metadata": {
        "id": "zUZA0q9lTQRj"
      }
    },
    {
      "cell_type": "code",
      "source": [
        "nums = [1, 2, 3]\n",
        "squares = list(map(lambda x: x**2, nums))\n",
        "print(squares)"
      ],
      "metadata": {
        "colab": {
          "base_uri": "https://localhost:8080/"
        },
        "id": "N5jKEa3eTgKw",
        "outputId": "eb43faa5-a846-4fbe-cefc-d267016560e1"
      },
      "execution_count": 8,
      "outputs": [
        {
          "output_type": "stream",
          "name": "stdout",
          "text": [
            "[1, 4, 9]\n"
          ]
        }
      ]
    },
    {
      "cell_type": "markdown",
      "source": [
        "10. What is the difference between `map()`, `reduce()`, and `filter()` functions in Python?\n",
        "   - map() → Transforms each element.\n",
        "   - filter() → Keeps only matching elements.\n",
        "   - reduce() → Combines all elements into one value."
      ],
      "metadata": {
        "id": "DTCoCtXMTmKC"
      }
    },
    {
      "cell_type": "code",
      "source": [
        "from functools import reduce\n",
        "nums = [1, 2, 3, 4]\n",
        "\n",
        "print(list(map(lambda x: x*2, nums)))\n",
        "print(list(filter(lambda x: x%2==0, nums)))\n",
        "print(reduce(lambda a,b: a+b, nums))"
      ],
      "metadata": {
        "colab": {
          "base_uri": "https://localhost:8080/"
        },
        "id": "ekIRgx5QT6Sg",
        "outputId": "231a20b1-9027-40e0-96b2-d32ac1064299"
      },
      "execution_count": 1,
      "outputs": [
        {
          "output_type": "stream",
          "name": "stdout",
          "text": [
            "[2, 4, 6, 8]\n",
            "[2, 4]\n",
            "10\n"
          ]
        }
      ]
    },
    {
      "cell_type": "markdown",
      "source": [
        "11. Using pen & Paper write the internal mechanism for sum operation using  reduce function on this given\n",
        "list:[47,11,42,13];\n",
        "    - List = [47,11,42,13]\n",
        "    - Step 1: (47 + 11) = 58\n",
        "    - Step 2: (58 + 42) = 100\n",
        "    - Step 3: (100 + 13) = 113\n",
        "\n",
        "Final Result = 113"
      ],
      "metadata": {
        "id": "mQM_EKtfULXT"
      }
    },
    {
      "cell_type": "markdown",
      "source": [
        "#Practical Questions:"
      ],
      "metadata": {
        "id": "nzuG9AzGYrIH"
      }
    },
    {
      "cell_type": "markdown",
      "source": [
        "1. Write a Python function that takes a list of numbers as input and returns the sum of all even numbers in\n",
        "the list."
      ],
      "metadata": {
        "id": "8lig9UqMZevn"
      }
    },
    {
      "cell_type": "code",
      "source": [
        "\n",
        "def sum_evenNumbers(nums):\n",
        "  T=0\n",
        "  for num in nums:\n",
        "    if num%2 ==0:\n",
        "      T = T + num\n",
        "  return T\n",
        "L = list(range(7))\n",
        "summer = sum_evenNumbers(L)\n",
        "print(summer)"
      ],
      "metadata": {
        "colab": {
          "base_uri": "https://localhost:8080/"
        },
        "id": "tieMUzaB--SE",
        "outputId": "5f269c82-6f81-4700-c196-cbd6db625dec"
      },
      "execution_count": 8,
      "outputs": [
        {
          "output_type": "stream",
          "name": "stdout",
          "text": [
            "12\n"
          ]
        }
      ]
    },
    {
      "cell_type": "markdown",
      "source": [
        "2. Create a Python function that accepts a string and returns the reverse of that string."
      ],
      "metadata": {
        "id": "KW__SCQyZkoV"
      }
    },
    {
      "cell_type": "code",
      "source": [
        "def reverse_str(text):\n",
        "  if isinstance(text, str):\n",
        "    return text[::-1]\n",
        "  else:\n",
        "    return \"Please enter a valid str\"\n",
        "x = reverse_str(1)\n",
        "print(x)"
      ],
      "metadata": {
        "colab": {
          "base_uri": "https://localhost:8080/"
        },
        "id": "CJTLgpOkBQ4o",
        "outputId": "5a78e417-9f34-4b89-da45-dd467349cf87"
      },
      "execution_count": 11,
      "outputs": [
        {
          "output_type": "stream",
          "name": "stdout",
          "text": [
            "Please enter a valid str\n"
          ]
        }
      ]
    },
    {
      "cell_type": "markdown",
      "source": [
        "3. Implement a Python function that takes a list of integers and returns a new list containing the squares of\n",
        "each number."
      ],
      "metadata": {
        "id": "AMbmRHDHZtOu"
      }
    },
    {
      "cell_type": "code",
      "source": [
        "def squareOf(nums):\n",
        "  return [num*num for num in nums]\n",
        "\n",
        "myList= [1,3,5,7,9]\n",
        "rs = squareOf(myList)\n",
        "print(rs)\n"
      ],
      "metadata": {
        "colab": {
          "base_uri": "https://localhost:8080/"
        },
        "id": "chTkeyYICGv_",
        "outputId": "75759f5c-6d97-4914-9b62-356f3295e632"
      },
      "execution_count": 1,
      "outputs": [
        {
          "output_type": "stream",
          "name": "stdout",
          "text": [
            "[1, 9, 25, 49, 81]\n"
          ]
        }
      ]
    },
    {
      "cell_type": "markdown",
      "source": [
        "4. Write a Python function that checks if a given number is prime or not from 1 to 200."
      ],
      "metadata": {
        "id": "ylYqIoNZZxI7"
      }
    },
    {
      "cell_type": "code",
      "source": [
        "def is_prime(n):\n",
        "    if n < 2:\n",
        "        return False\n",
        "    for i in range(2, n):\n",
        "      #int(n**0.5)+1\n",
        "        if n % i == 0:\n",
        "            return False\n",
        "    return True\n",
        "\n",
        "primes = [(x, is_prime(x)) for x in range(1, 201)]\n",
        "print(primes)"
      ],
      "metadata": {
        "colab": {
          "base_uri": "https://localhost:8080/"
        },
        "id": "wD1PRC4ytT8J",
        "outputId": "f1733d7c-3428-45dc-c931-20a9f107a8c6"
      },
      "execution_count": 5,
      "outputs": [
        {
          "output_type": "stream",
          "name": "stdout",
          "text": [
            "[(1, False), (2, True), (3, True), (4, False), (5, True), (6, False), (7, True), (8, False), (9, False), (10, False), (11, True), (12, False), (13, True), (14, False), (15, False), (16, False), (17, True), (18, False), (19, True), (20, False), (21, False), (22, False), (23, True), (24, False), (25, False), (26, False), (27, False), (28, False), (29, True), (30, False), (31, True), (32, False), (33, False), (34, False), (35, False), (36, False), (37, True), (38, False), (39, False), (40, False), (41, True), (42, False), (43, True), (44, False), (45, False), (46, False), (47, True), (48, False), (49, False), (50, False), (51, False), (52, False), (53, True), (54, False), (55, False), (56, False), (57, False), (58, False), (59, True), (60, False), (61, True), (62, False), (63, False), (64, False), (65, False), (66, False), (67, True), (68, False), (69, False), (70, False), (71, True), (72, False), (73, True), (74, False), (75, False), (76, False), (77, False), (78, False), (79, True), (80, False), (81, False), (82, False), (83, True), (84, False), (85, False), (86, False), (87, False), (88, False), (89, True), (90, False), (91, False), (92, False), (93, False), (94, False), (95, False), (96, False), (97, True), (98, False), (99, False), (100, False), (101, True), (102, False), (103, True), (104, False), (105, False), (106, False), (107, True), (108, False), (109, True), (110, False), (111, False), (112, False), (113, True), (114, False), (115, False), (116, False), (117, False), (118, False), (119, False), (120, False), (121, False), (122, False), (123, False), (124, False), (125, False), (126, False), (127, True), (128, False), (129, False), (130, False), (131, True), (132, False), (133, False), (134, False), (135, False), (136, False), (137, True), (138, False), (139, True), (140, False), (141, False), (142, False), (143, False), (144, False), (145, False), (146, False), (147, False), (148, False), (149, True), (150, False), (151, True), (152, False), (153, False), (154, False), (155, False), (156, False), (157, True), (158, False), (159, False), (160, False), (161, False), (162, False), (163, True), (164, False), (165, False), (166, False), (167, True), (168, False), (169, False), (170, False), (171, False), (172, False), (173, True), (174, False), (175, False), (176, False), (177, False), (178, False), (179, True), (180, False), (181, True), (182, False), (183, False), (184, False), (185, False), (186, False), (187, False), (188, False), (189, False), (190, False), (191, True), (192, False), (193, True), (194, False), (195, False), (196, False), (197, True), (198, False), (199, True), (200, False)]\n"
          ]
        }
      ]
    },
    {
      "cell_type": "markdown",
      "source": [
        "5. Create an iterator class in Python that generates the Fibonacci sequence up to a specified number of\n",
        "terms."
      ],
      "metadata": {
        "id": "w2NIWZO9Z0Vl"
      }
    },
    {
      "cell_type": "code",
      "source": [
        "class Fibo:\n",
        "    def __init__(self, nums):\n",
        "        self.nums = nums\n",
        "        self.a, self.b = 0, 1\n",
        "        self.count = 0\n",
        "\n",
        "    def __iter__(self):\n",
        "        return self\n",
        "\n",
        "    def __next__(self):\n",
        "        if self.count < self.nums:\n",
        "            value = self.a\n",
        "            self.a, self.b = self.b, self.a + self.b\n",
        "            self.count += 1\n",
        "            return value\n",
        "        else:\n",
        "            raise StopIteration\n",
        "\n",
        "for num in Fibo(10):\n",
        "    print(num)"
      ],
      "metadata": {
        "colab": {
          "base_uri": "https://localhost:8080/"
        },
        "id": "fZvQ2Vqf-bMv",
        "outputId": "6a5aaeb5-7a6d-4669-862a-e9630c7fd101"
      },
      "execution_count": 6,
      "outputs": [
        {
          "output_type": "stream",
          "name": "stdout",
          "text": [
            "0\n",
            "1\n",
            "1\n",
            "2\n",
            "3\n",
            "5\n",
            "8\n",
            "13\n",
            "21\n",
            "34\n"
          ]
        }
      ]
    },
    {
      "cell_type": "code",
      "source": [
        "def fibo(n): # with function\n",
        "  a, b, i = 0, 1, 0\n",
        "  l= []\n",
        "  while i < n:\n",
        "    l.append(a)\n",
        "    c = a + b\n",
        "    a = b\n",
        "    b = c\n",
        "    i+=1\n",
        "\n",
        "  return l\n",
        "fibo(10)\n"
      ],
      "metadata": {
        "colab": {
          "base_uri": "https://localhost:8080/"
        },
        "id": "iK3S93kH2Q2N",
        "outputId": "dc84aa95-9b05-423d-f8da-ccd5783e9865"
      },
      "execution_count": 22,
      "outputs": [
        {
          "output_type": "execute_result",
          "data": {
            "text/plain": [
              "[0, 1, 1, 2, 3, 5, 8, 13, 21, 34]"
            ]
          },
          "metadata": {},
          "execution_count": 22
        }
      ]
    },
    {
      "cell_type": "markdown",
      "source": [
        "6. Write a generator function in Python that yields the powers of 2 up to a given exponent.\n",
        "\n"
      ],
      "metadata": {
        "id": "giV_QdC2Z30P"
      }
    },
    {
      "cell_type": "code",
      "source": [
        "def gen(e):\n",
        "  for k in range(e):\n",
        "    yield 2**k\n",
        "print(list(gen(11)))"
      ],
      "metadata": {
        "colab": {
          "base_uri": "https://localhost:8080/"
        },
        "id": "OU2v-ZEXGyr0",
        "outputId": "1e3c1863-fb31-4091-c80f-453ada921b21"
      },
      "execution_count": 30,
      "outputs": [
        {
          "output_type": "stream",
          "name": "stdout",
          "text": [
            "[1, 2, 4, 8, 16, 32, 64, 128, 256, 512, 1024]\n"
          ]
        }
      ]
    },
    {
      "cell_type": "markdown",
      "source": [
        "7. Implement a generator function that reads a file line by line and yields each line as a string."
      ],
      "metadata": {
        "id": "3i1-ZbW5Z7Xg"
      }
    },
    {
      "cell_type": "code",
      "source": [
        "\n",
        "def read_gen(filepath):\n",
        "  with open(filepath) as f:\n",
        "    lines = f.readlines()\n",
        "    for line in lines:\n",
        "      yield line\n",
        "raw = read_gen(\"Sample.csv\")\n",
        "print(next(raw))"
      ],
      "metadata": {
        "id": "9e2VYh00JLGE"
      },
      "execution_count": null,
      "outputs": []
    },
    {
      "cell_type": "markdown",
      "source": [
        "8. Use a lambda function in Python to sort a list of tuples based on the second element of each tuple."
      ],
      "metadata": {
        "id": "sxXf6eEzZ-fv"
      }
    },
    {
      "cell_type": "code",
      "source": [
        "iList = [(1,3),(3,7), (9,5)]\n",
        "k= sorted(iList, key= lambda x: x[1])\n",
        "print(k)"
      ],
      "metadata": {
        "colab": {
          "base_uri": "https://localhost:8080/"
        },
        "id": "GXXL_FRQMw24",
        "outputId": "767d46c6-0c7d-460f-84fb-cb4451347cb4"
      },
      "execution_count": 31,
      "outputs": [
        {
          "output_type": "stream",
          "name": "stdout",
          "text": [
            "[(1, 3), (9, 5), (3, 7)]\n"
          ]
        }
      ]
    },
    {
      "cell_type": "markdown",
      "source": [
        "9. Write a Python program that uses `map()` to convert a list of temperatures from Celsius to Fahrenheit."
      ],
      "metadata": {
        "id": "UJoWXFJ9aDvE"
      }
    },
    {
      "cell_type": "code",
      "source": [
        "iList = [20, 30, 40, 50, 60, 70, 80]\n",
        "Fnt = map(lambda x: str(x*1.8 + 32) + \" f\" ,iList)\n",
        "print(list(Fnt))"
      ],
      "metadata": {
        "colab": {
          "base_uri": "https://localhost:8080/"
        },
        "id": "To2Jf1sVN6L5",
        "outputId": "6b7b9319-9c8a-4469-a4e4-0df90d58e25e"
      },
      "execution_count": 34,
      "outputs": [
        {
          "output_type": "stream",
          "name": "stdout",
          "text": [
            "['68.0 f', '86.0 f', '104.0 f', '122.0 f', '140.0 f', '158.0 f', '176.0 f']\n"
          ]
        }
      ]
    },
    {
      "cell_type": "markdown",
      "source": [
        "10. Create a Python program that uses `filter()` to remove all the vowels from a given string."
      ],
      "metadata": {
        "id": "nh0ZqhBtaG9S"
      }
    },
    {
      "cell_type": "code",
      "source": [
        "text = \"Hello I am Pooja Kumari!\"\n",
        "vowel= \"aeiou\"\n",
        "alpha = filter(lambda x: x.lower() not in vowel, text)\n",
        "print(\"\".join(list(alpha)))"
      ],
      "metadata": {
        "colab": {
          "base_uri": "https://localhost:8080/"
        },
        "id": "kOAdrVBPQRxN",
        "outputId": "d3426d8d-f285-47f4-85f6-a5dd0852ddb6"
      },
      "execution_count": 38,
      "outputs": [
        {
          "output_type": "stream",
          "name": "stdout",
          "text": [
            "Hll  m Pj Kmr!\n"
          ]
        }
      ]
    },
    {
      "cell_type": "markdown",
      "source": [
        "11.  Imagine an accounting routine used in a book shop. It works on a list with sublists, which look like this:\n",
        "Write a Python program, which returns a list with 2-tuples. Each tuple consists of the order number and the\n",
        "product of the price per item and the quantity. The product should be increased by 10,- € if the value of the\n",
        "order is smaller than 100,00 €.\n",
        "Write a Python program using lambda and map"
      ],
      "metadata": {
        "id": "-t-NAE8MaKSd"
      }
    },
    {
      "cell_type": "code",
      "source": [
        "orders = [\n",
        "    [34587, \"Learning Python, Mark Lutz\", 4, 40.95],\n",
        "    [98762, \"Programming Python, Mark Lutz\", 5, 56.80],\n",
        "    [77226, \"Head First Python, Paul Barry\", 3, 32.95],\n",
        "    [88112, \"Einführung in Python3, Bernd Klein\", 3, 24.99]\n",
        "]\n",
        "\n",
        "result = list(map(\n",
        "    lambda x: (x[0], x[2] * x[3] if x[2] * x[3] >= 100 else x[2] * x[3] + 10),\n",
        "    orders\n",
        "))\n",
        "print(result)"
      ],
      "metadata": {
        "colab": {
          "base_uri": "https://localhost:8080/"
        },
        "id": "K5SNFrphVGPI",
        "outputId": "985c08fc-1a71-4a69-f019-463d5e42ab68"
      },
      "execution_count": 39,
      "outputs": [
        {
          "output_type": "stream",
          "name": "stdout",
          "text": [
            "[(34587, 163.8), (98762, 284.0), (77226, 108.85000000000001), (88112, 84.97)]\n"
          ]
        }
      ]
    }
  ]
}